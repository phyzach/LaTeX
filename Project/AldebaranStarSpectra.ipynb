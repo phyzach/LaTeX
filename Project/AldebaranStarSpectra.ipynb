{
 "cells": [
  {
   "cell_type": "markdown",
   "metadata": {},
   "source": [
    "# Aldebaran Spectra historical review\n",
    "This script will query from VizieR, spectra analysis for the star Aldebaran at cooridinates 04+35+55.23907 16+30+33.4885. Use via the interactive plot in this notebook after uploading it to google collab, open and run all cells. Collab will prompt you download necessary packages."
   ]
  },
  {
   "cell_type": "code",
   "execution_count": null,
   "metadata": {},
   "outputs": [
    {
     "name": "stdout",
     "output_type": "stream",
     "text": [
      "Requirement already satisfied: astroquery in c:\\users\\zshel\\anaconda3\\lib\\site-packages (0.4.10)\n",
      "Requirement already satisfied: numpy>=1.20 in c:\\users\\zshel\\anaconda3\\lib\\site-packages (from astroquery) (1.26.3)\n",
      "Requirement already satisfied: astropy>=5.0 in c:\\users\\zshel\\anaconda3\\lib\\site-packages (from astroquery) (5.1)\n",
      "Requirement already satisfied: requests>=2.19 in c:\\users\\zshel\\anaconda3\\lib\\site-packages (from astroquery) (2.31.0)\n",
      "Requirement already satisfied: beautifulsoup4>=4.8 in c:\\users\\zshel\\anaconda3\\lib\\site-packages (from astroquery) (4.12.2)\n",
      "Requirement already satisfied: html5lib>=0.999 in c:\\users\\zshel\\anaconda3\\lib\\site-packages (from astroquery) (1.1)\n",
      "Requirement already satisfied: keyring>=15.0 in c:\\users\\zshel\\anaconda3\\lib\\site-packages (from astroquery) (23.13.1)\n",
      "Requirement already satisfied: pyvo>=1.5 in c:\\users\\zshel\\anaconda3\\lib\\site-packages (from astroquery) (1.6.1)\n",
      "Requirement already satisfied: pyerfa>=2.0 in c:\\users\\zshel\\anaconda3\\lib\\site-packages (from astropy>=5.0->astroquery) (2.0.0)\n",
      "Requirement already satisfied: PyYAML>=3.13 in c:\\users\\zshel\\anaconda3\\lib\\site-packages (from astropy>=5.0->astroquery) (6.0)\n",
      "Requirement already satisfied: packaging>=19.0 in c:\\users\\zshel\\anaconda3\\lib\\site-packages (from astropy>=5.0->astroquery) (23.1)\n",
      "Requirement already satisfied: soupsieve>1.2 in c:\\users\\zshel\\anaconda3\\lib\\site-packages (from beautifulsoup4>=4.8->astroquery) (2.4)\n",
      "Requirement already satisfied: six>=1.9 in c:\\users\\zshel\\anaconda3\\lib\\site-packages (from html5lib>=0.999->astroquery) (1.17.0)\n",
      "Requirement already satisfied: webencodings in c:\\users\\zshel\\anaconda3\\lib\\site-packages (from html5lib>=0.999->astroquery) (0.5.1)\n",
      "Requirement already satisfied: jaraco.classes in c:\\users\\zshel\\anaconda3\\lib\\site-packages (from keyring>=15.0->astroquery) (3.2.1)\n",
      "Requirement already satisfied: importlib-metadata>=4.11.4 in c:\\users\\zshel\\anaconda3\\lib\\site-packages (from keyring>=15.0->astroquery) (6.0.0)\n",
      "Requirement already satisfied: pywin32-ctypes>=0.2.0 in c:\\users\\zshel\\anaconda3\\lib\\site-packages (from keyring>=15.0->astroquery) (0.2.0)\n",
      "Requirement already satisfied: charset-normalizer<4,>=2 in c:\\users\\zshel\\anaconda3\\lib\\site-packages (from requests>=2.19->astroquery) (2.0.4)\n",
      "Requirement already satisfied: idna<4,>=2.5 in c:\\users\\zshel\\anaconda3\\lib\\site-packages (from requests>=2.19->astroquery) (3.4)\n",
      "Requirement already satisfied: urllib3<3,>=1.21.1 in c:\\users\\zshel\\anaconda3\\lib\\site-packages (from requests>=2.19->astroquery) (1.26.16)\n",
      "Requirement already satisfied: certifi>=2017.4.17 in c:\\users\\zshel\\anaconda3\\lib\\site-packages (from requests>=2.19->astroquery) (2024.2.2)\n",
      "Requirement already satisfied: zipp>=0.5 in c:\\users\\zshel\\anaconda3\\lib\\site-packages (from importlib-metadata>=4.11.4->keyring>=15.0->astroquery) (3.11.0)\n",
      "Requirement already satisfied: more-itertools in c:\\users\\zshel\\anaconda3\\lib\\site-packages (from jaraco.classes->keyring>=15.0->astroquery) (8.12.0)\n",
      "Requirement already satisfied: plotly in c:\\users\\zshel\\anaconda3\\lib\\site-packages (5.9.0)\n",
      "Requirement already satisfied: tenacity>=6.2.0 in c:\\users\\zshel\\anaconda3\\lib\\site-packages (from plotly) (8.2.2)\n",
      "Requirement already satisfied: astropy in c:\\users\\zshel\\anaconda3\\lib\\site-packages (5.1)\n",
      "Requirement already satisfied: numpy>=1.18 in c:\\users\\zshel\\anaconda3\\lib\\site-packages (from astropy) (1.26.3)\n",
      "Requirement already satisfied: pyerfa>=2.0 in c:\\users\\zshel\\anaconda3\\lib\\site-packages (from astropy) (2.0.0)\n",
      "Requirement already satisfied: PyYAML>=3.13 in c:\\users\\zshel\\anaconda3\\lib\\site-packages (from astropy) (6.0)\n",
      "Requirement already satisfied: packaging>=19.0 in c:\\users\\zshel\\anaconda3\\lib\\site-packages (from astropy) (23.1)\n"
     ]
    }
   ],
   "source": [
    "# Necessary Imported Packages\n",
    "!pip install astroquery\n",
    "!pip install plotly\n",
    "!pip install astropy\n",
    "import numpy\n",
    "import numpy\n",
    "import matplotlib.pyplot as plt\n",
    "import numpy as np\n",
    "from astropy.table import Table\n",
    "from astroquery.vizier import Vizier\n",
    "from datetime import datetime\n",
    "import plotly.express as px\n"
   ]
  },
  {
   "cell_type": "markdown",
   "metadata": {},
   "source": [
    "# Setup\n",
    "Read table from VizieR's Photometry Webpage: (http://vizier.cds.unistra.fr/vizier/sed/)"
   ]
  },
  {
   "cell_type": "code",
   "execution_count": 10,
   "metadata": {},
   "outputs": [],
   "source": [
    "radius=2 # Radius in Arcseconds \n",
    "target=\"04+35+55.23907%2B16+30+33.4885\" # Url Encoded Coordiates\n",
    "sed=Table.read(f\"https://vizier.cds.unistra.fr/viz-bin/sed?-c={target}&-c.rs={radius}\") # Read Spectra table from vizieR photometry\n"
   ]
  },
  {
   "cell_type": "markdown",
   "metadata": {},
   "source": [
    "Cross the catalog descriptions for their year of publish and add these to a pandas dataframe."
   ]
  },
  {
   "cell_type": "code",
   "execution_count": 15,
   "metadata": {},
   "outputs": [],
   "source": [
    "df=sed.to_pandas() # Convert table to Pandas dataframe\n",
    "names=df['_tabname'].values # Grab the catalog names from the dataframe\n",
    "outputs=[] # Define outputs array\n",
    "for n in names: # Use astroquery VizieR package to find the metadata description of the colleagues.\n",
    "    catalog_list = Vizier.find_catalogs(n)\n",
    "    for k, v in catalog_list.items():\n",
    "       outputs.append(v.description)\n",
    "# Grabs a description in the format:\n",
    "# The Hipparcos and Tycho Catalogues (ESA 1997) The Hipparcos Main Catalogue\n",
    "import re #Use re.search to extract the year from this to ascribe a time to the measurement.\n",
    "years=[] # output years array\n",
    "c=0\n",
    "for o in outputs:\n",
    "    finds=re.findall(r'(.*?)(\\([A-Za-z][A-Za-z\\'\\s\\-\\/]*[\\+,]?(?:\\s*et al\\.)?,?\\s(?:\\d{4}(?:\\-\\d{0,4})?|\\d{4}\\-\\d{2}\\-\\d{2}|Version\\s[\\d\\-]+)\\))(.*)',o) # Extracts the citation text from *generally* closed parenthesis.\n",
    "    # Will be left with ('The Hipparcos and Tycho Catalogues ', '(ESA 1997)', '')\n",
    "    # Filter out the none citation text, this will look at the first instance of a date that makes sense(ie before 2026)\n",
    "    for f in list(finds[0]):\n",
    "        try:\n",
    "            year_found=int(re.findall(r'\\d{4}',f)[0])  #Trys to match in filtered strings, passing if it doesn't find a valid year\n",
    "            #print(year_found)\n",
    "            if year_found<2026: # selects the first good year\n",
    "                years.append(str(year_found)) # Appending to found year, assigning to string for plotly\n",
    "                break\n",
    "            else:\n",
    "                pass\n",
    "        except:\n",
    "            pass"
   ]
  },
  {
   "cell_type": "markdown",
   "metadata": {},
   "source": [
    "### Future Implementation\n",
    "If we have data from a specific month or year. We can instead extract the month, day or second from the timedate info given."
   ]
  },
  {
   "cell_type": "code",
   "execution_count": 16,
   "metadata": {},
   "outputs": [
    {
     "data": {
      "text/html": [
       "<div>\n",
       "<style scoped>\n",
       "    .dataframe tbody tr th:only-of-type {\n",
       "        vertical-align: middle;\n",
       "    }\n",
       "\n",
       "    .dataframe tbody tr th {\n",
       "        vertical-align: top;\n",
       "    }\n",
       "\n",
       "    .dataframe thead th {\n",
       "        text-align: right;\n",
       "    }\n",
       "</style>\n",
       "<table border=\"1\" class=\"dataframe\">\n",
       "  <thead>\n",
       "    <tr style=\"text-align: right;\">\n",
       "      <th></th>\n",
       "      <th>_RAJ2000</th>\n",
       "      <th>_DEJ2000</th>\n",
       "      <th>_tabname</th>\n",
       "      <th>_ID</th>\n",
       "      <th>_tab1_86</th>\n",
       "      <th>_tab1_87</th>\n",
       "      <th>sed_freq</th>\n",
       "      <th>sed_flux</th>\n",
       "      <th>sed_eflux</th>\n",
       "      <th>sed_filter</th>\n",
       "      <th>time</th>\n",
       "      <th>wavelength</th>\n",
       "    </tr>\n",
       "  </thead>\n",
       "  <tbody>\n",
       "    <tr>\n",
       "      <th>104</th>\n",
       "      <td>68.980163</td>\n",
       "      <td>16.509302</td>\n",
       "      <td>III/126/part1</td>\n",
       "      <td>recno=1411</td>\n",
       "      <td>NaN</td>\n",
       "      <td>0.0</td>\n",
       "      <td>541430.0</td>\n",
       "      <td>1650.00</td>\n",
       "      <td>NaN</td>\n",
       "      <td>Johnson:V</td>\n",
       "      <td>1588</td>\n",
       "      <td>5.540882e+05</td>\n",
       "    </tr>\n",
       "    <tr>\n",
       "      <th>105</th>\n",
       "      <td>68.980163</td>\n",
       "      <td>16.509302</td>\n",
       "      <td>III/126/part2</td>\n",
       "      <td>recno=456</td>\n",
       "      <td>NaN</td>\n",
       "      <td>0.0</td>\n",
       "      <td>541430.0</td>\n",
       "      <td>1650.00</td>\n",
       "      <td>NaN</td>\n",
       "      <td>Johnson:V</td>\n",
       "      <td>1588</td>\n",
       "      <td>5.540882e+05</td>\n",
       "    </tr>\n",
       "    <tr>\n",
       "      <th>106</th>\n",
       "      <td>68.980163</td>\n",
       "      <td>16.509302</td>\n",
       "      <td>III/126/part3</td>\n",
       "      <td>recno=411</td>\n",
       "      <td>NaN</td>\n",
       "      <td>0.0</td>\n",
       "      <td>541430.0</td>\n",
       "      <td>1650.00</td>\n",
       "      <td>NaN</td>\n",
       "      <td>Johnson:V</td>\n",
       "      <td>1588</td>\n",
       "      <td>5.540882e+05</td>\n",
       "    </tr>\n",
       "    <tr>\n",
       "      <th>107</th>\n",
       "      <td>68.980163</td>\n",
       "      <td>16.509302</td>\n",
       "      <td>III/126/part3</td>\n",
       "      <td>recno=412</td>\n",
       "      <td>NaN</td>\n",
       "      <td>0.0</td>\n",
       "      <td>541430.0</td>\n",
       "      <td>1650.00</td>\n",
       "      <td>NaN</td>\n",
       "      <td>Johnson:V</td>\n",
       "      <td>1588</td>\n",
       "      <td>5.540882e+05</td>\n",
       "    </tr>\n",
       "    <tr>\n",
       "      <th>65</th>\n",
       "      <td>68.980163</td>\n",
       "      <td>16.509303</td>\n",
       "      <td>II/122B/merged</td>\n",
       "      <td>recno=22866</td>\n",
       "      <td>NaN</td>\n",
       "      <td>0.0</td>\n",
       "      <td>541430.0</td>\n",
       "      <td>1650.00</td>\n",
       "      <td>NaN</td>\n",
       "      <td>Johnson:V</td>\n",
       "      <td>1953</td>\n",
       "      <td>5.540882e+05</td>\n",
       "    </tr>\n",
       "    <tr>\n",
       "      <th>...</th>\n",
       "      <td>...</td>\n",
       "      <td>...</td>\n",
       "      <td>...</td>\n",
       "      <td>...</td>\n",
       "      <td>...</td>\n",
       "      <td>...</td>\n",
       "      <td>...</td>\n",
       "      <td>...</td>\n",
       "      <td>...</td>\n",
       "      <td>...</td>\n",
       "      <td>...</td>\n",
       "      <td>...</td>\n",
       "    </tr>\n",
       "    <tr>\n",
       "      <th>350</th>\n",
       "      <td>68.980246</td>\n",
       "      <td>16.508900</td>\n",
       "      <td>J/A+A/688/A203/bsrejcds</td>\n",
       "      <td>recno=11321</td>\n",
       "      <td>NaN</td>\n",
       "      <td>0.0</td>\n",
       "      <td>4282.8</td>\n",
       "      <td>14.30</td>\n",
       "      <td>0.00</td>\n",
       "      <td>Herschel/PACS:70</td>\n",
       "      <td>2024</td>\n",
       "      <td>7.004763e+07</td>\n",
       "    </tr>\n",
       "    <tr>\n",
       "      <th>351</th>\n",
       "      <td>68.980235</td>\n",
       "      <td>16.508904</td>\n",
       "      <td>J/A+A/688/A203/rrejcds</td>\n",
       "      <td>recno=34099</td>\n",
       "      <td>NaN</td>\n",
       "      <td>0.0</td>\n",
       "      <td>1873.7</td>\n",
       "      <td>2.84</td>\n",
       "      <td>0.06</td>\n",
       "      <td>Herschel/PACS:160</td>\n",
       "      <td>2024</td>\n",
       "      <td>1.601110e+08</td>\n",
       "    </tr>\n",
       "    <tr>\n",
       "      <th>352</th>\n",
       "      <td>68.980458</td>\n",
       "      <td>16.508848</td>\n",
       "      <td>J/A+A/688/A203/rrejcds</td>\n",
       "      <td>recno=34100</td>\n",
       "      <td>NaN</td>\n",
       "      <td>0.0</td>\n",
       "      <td>1873.7</td>\n",
       "      <td>2.82</td>\n",
       "      <td>0.05</td>\n",
       "      <td>Herschel/PACS:160</td>\n",
       "      <td>2024</td>\n",
       "      <td>1.601110e+08</td>\n",
       "    </tr>\n",
       "    <tr>\n",
       "      <th>347</th>\n",
       "      <td>68.980000</td>\n",
       "      <td>16.509311</td>\n",
       "      <td>J/A+A/681/A107/metaspec</td>\n",
       "      <td>recno=132</td>\n",
       "      <td>2.455577e+06</td>\n",
       "      <td>1100.0</td>\n",
       "      <td>541430.0</td>\n",
       "      <td>1650.00</td>\n",
       "      <td>NaN</td>\n",
       "      <td>Johnson:V</td>\n",
       "      <td>2024</td>\n",
       "      <td>5.540882e+05</td>\n",
       "    </tr>\n",
       "    <tr>\n",
       "      <th>349</th>\n",
       "      <td>68.980433</td>\n",
       "      <td>16.508841</td>\n",
       "      <td>J/A+A/688/A203/blhrcds</td>\n",
       "      <td>recno=13266</td>\n",
       "      <td>NaN</td>\n",
       "      <td>0.0</td>\n",
       "      <td>2997.9</td>\n",
       "      <td>7.07</td>\n",
       "      <td>0.01</td>\n",
       "      <td>Herschel/PACS:100</td>\n",
       "      <td>2024</td>\n",
       "      <td>1.000700e+08</td>\n",
       "    </tr>\n",
       "  </tbody>\n",
       "</table>\n",
       "<p>398 rows × 12 columns</p>\n",
       "</div>"
      ],
      "text/plain": [
       "      _RAJ2000   _DEJ2000                 _tabname          _ID      _tab1_86  \\\n",
       "104  68.980163  16.509302            III/126/part1   recno=1411           NaN   \n",
       "105  68.980163  16.509302            III/126/part2    recno=456           NaN   \n",
       "106  68.980163  16.509302            III/126/part3    recno=411           NaN   \n",
       "107  68.980163  16.509302            III/126/part3    recno=412           NaN   \n",
       "65   68.980163  16.509303           II/122B/merged  recno=22866           NaN   \n",
       "..         ...        ...                      ...          ...           ...   \n",
       "350  68.980246  16.508900  J/A+A/688/A203/bsrejcds  recno=11321           NaN   \n",
       "351  68.980235  16.508904   J/A+A/688/A203/rrejcds  recno=34099           NaN   \n",
       "352  68.980458  16.508848   J/A+A/688/A203/rrejcds  recno=34100           NaN   \n",
       "347  68.980000  16.509311  J/A+A/681/A107/metaspec    recno=132  2.455577e+06   \n",
       "349  68.980433  16.508841   J/A+A/688/A203/blhrcds  recno=13266           NaN   \n",
       "\n",
       "     _tab1_87  sed_freq  sed_flux  sed_eflux         sed_filter  time  \\\n",
       "104       0.0  541430.0   1650.00        NaN          Johnson:V  1588   \n",
       "105       0.0  541430.0   1650.00        NaN          Johnson:V  1588   \n",
       "106       0.0  541430.0   1650.00        NaN          Johnson:V  1588   \n",
       "107       0.0  541430.0   1650.00        NaN          Johnson:V  1588   \n",
       "65        0.0  541430.0   1650.00        NaN          Johnson:V  1953   \n",
       "..        ...       ...       ...        ...                ...   ...   \n",
       "350       0.0    4282.8     14.30       0.00   Herschel/PACS:70  2024   \n",
       "351       0.0    1873.7      2.84       0.06  Herschel/PACS:160  2024   \n",
       "352       0.0    1873.7      2.82       0.05  Herschel/PACS:160  2024   \n",
       "347    1100.0  541430.0   1650.00        NaN          Johnson:V  2024   \n",
       "349       0.0    2997.9      7.07       0.01  Herschel/PACS:100  2024   \n",
       "\n",
       "       wavelength  \n",
       "104  5.540882e+05  \n",
       "105  5.540882e+05  \n",
       "106  5.540882e+05  \n",
       "107  5.540882e+05  \n",
       "65   5.540882e+05  \n",
       "..            ...  \n",
       "350  7.004763e+07  \n",
       "351  1.601110e+08  \n",
       "352  1.601110e+08  \n",
       "347  5.540882e+05  \n",
       "349  1.000700e+08  \n",
       "\n",
       "[398 rows x 12 columns]"
      ]
     },
     "execution_count": 16,
     "metadata": {},
     "output_type": "execute_result"
    }
   ],
   "source": [
    "df['time']=years # Assign the time bin for data sorting.\n",
    "c=3*10**8\n",
    "df['wavelength']=(c/(df['sed_freq']*10**6))/10**-9 #converts frequecny to wavelength in nanometers\n",
    "df.sort_values('time')"
   ]
  },
  {
   "cell_type": "markdown",
   "metadata": {},
   "source": [
    "Utilize Plotly to show data collected by year, click the values on the right to hide specific years. While not perfect, generally 1 study is done a year. Utilize the button to hide all the years or show all. There is are viewing options provided by plotly for you to look at if you're interested. The flux is stored in the table in Janskys, while the wavelength is stored as frequency($f=c/\\lambda$)"
   ]
  },
  {
   "cell_type": "code",
   "execution_count": null,
   "metadata": {},
   "outputs": [
    {
     "data": {
      "application/vnd.plotly.v1+json": {
       "config": {
        "plotlyServerURL": "https://plot.ly"
       },
       "data": [
        {
         "hovertemplate": "time=1588<br>Wavelength(nm)=%{x}<br>Flux(Jy)=%{y}<extra></extra>",
         "legendgroup": "1588",
         "marker": {
          "color": "#636efa",
          "symbol": "circle"
         },
         "mode": "markers",
         "name": "1588",
         "orientation": "v",
         "showlegend": true,
         "type": "scatter",
         "x": [
          554088.2477882644,
          554088.2477882644,
          554088.2477882644,
          554088.2477882644
         ],
         "xaxis": "x",
         "y": [
          1650,
          1650,
          1650,
          1650
         ],
         "yaxis": "y"
        },
        {
         "hovertemplate": "time=1953<br>Wavelength(nm)=%{x}<br>Flux(Jy)=%{y}<extra></extra>",
         "legendgroup": "1953",
         "marker": {
          "color": "#EF553B",
          "symbol": "circle"
         },
         "mode": "markers",
         "name": "1953",
         "orientation": "v",
         "showlegend": true,
         "type": "scatter",
         "x": [
          554088.2477882644,
          554088.2477882644,
          554088.2477882644,
          554088.2477882644,
          554088.2477882644,
          554088.2477882644,
          554088.2477882644,
          554088.2477882644
         ],
         "xaxis": "x",
         "y": [
          1650,
          1550,
          1650,
          1770,
          1650,
          1600,
          1650,
          1630
         ],
         "yaxis": "y"
        },
        {
         "hovertemplate": "time=1966<br>Wavelength(nm)=%{x}<br>Flux(Jy)=%{y}<extra></extra>",
         "legendgroup": "1966",
         "marker": {
          "color": "#00cc96",
          "symbol": "circle"
         },
         "mode": "markers",
         "name": "1966",
         "orientation": "v",
         "showlegend": true,
         "type": "scatter",
         "x": [
          554088.2477882644
         ],
         "xaxis": "x",
         "y": [
          1650
         ],
         "yaxis": "y"
        },
        {
         "hovertemplate": "time=1970<br>Wavelength(nm)=%{x}<br>Flux(Jy)=%{y}<extra></extra>",
         "legendgroup": "1970",
         "marker": {
          "color": "#ab63fa",
          "symbol": "circle"
         },
         "mode": "markers",
         "name": "1970",
         "orientation": "v",
         "showlegend": true,
         "type": "scatter",
         "x": [
          554088.2477882644
         ],
         "xaxis": "x",
         "y": [
          1740
         ],
         "yaxis": "y"
        },
        {
         "hovertemplate": "time=1978<br>Wavelength(nm)=%{x}<br>Flux(Jy)=%{y}<extra></extra>",
         "legendgroup": "1978",
         "marker": {
          "color": "#FFA15A",
          "symbol": "circle"
         },
         "mode": "markers",
         "name": "1978",
         "orientation": "v",
         "showlegend": true,
         "type": "scatter",
         "x": [
          353344.4047913501,
          3402363.5085172495,
          444510.2978218995,
          2191540.6530791144,
          554088.2477882644,
          694283.7306179125,
          878605.9452335626,
          1250886.0442813658,
          3402363.5085172495,
          2191540.6530791144,
          1631143.975641583,
          444510.2978218995,
          878605.9452335626,
          694283.7306179125,
          554088.2477882644,
          353344.4047913501,
          1250886.0442813658,
          5033472.592741732
         ],
         "xaxis": "x",
         "y": [
          33.900001525878906,
          4560,
          467,
          8690,
          1650,
          4060,
          7620,
          8770,
          4560,
          8690,
          11300,
          467,
          7620,
          4060,
          1650,
          33.900001525878906,
          8770,
          1810
         ],
         "yaxis": "y"
        },
        {
         "hovertemplate": "time=1987<br>Wavelength(nm)=%{x}<br>Flux(Jy)=%{y}<extra></extra>",
         "legendgroup": "1987",
         "marker": {
          "color": "#19d3f3",
          "symbol": "circle"
         },
         "mode": "markers",
         "name": "1987",
         "orientation": "v",
         "showlegend": true,
         "type": "scatter",
         "x": [
          554088.2477882644
         ],
         "xaxis": "x",
         "y": [
          1660
         ],
         "yaxis": "y"
        },
        {
         "hovertemplate": "time=1994<br>Wavelength(nm)=%{x}<br>Flux(Jy)=%{y}<extra></extra>",
         "legendgroup": "1994",
         "marker": {
          "color": "#FF6692",
          "symbol": "circle"
         },
         "mode": "markers",
         "name": "1994",
         "orientation": "v",
         "showlegend": true,
         "type": "scatter",
         "x": [
          11598237.067965668,
          23896765.971005253,
          61892678.09618122,
          102019995.91920015
         ],
         "xaxis": "x",
         "y": [
          700,
          153,
          25.700000762939453,
          6.400000095367432
         ],
         "yaxis": "y"
        },
        {
         "hovertemplate": "time=1996<br>Wavelength(nm)=%{x}<br>Flux(Jy)=%{y}<extra></extra>",
         "legendgroup": "1996",
         "marker": {
          "color": "#B6E880",
          "symbol": "circle"
         },
         "mode": "markers",
         "name": "1996",
         "orientation": "v",
         "showlegend": true,
         "type": "scatter",
         "x": [
          11598237.067965668,
          11598237.067965668,
          23896765.971005253,
          61892678.09618122,
          102019995.91920015
         ],
         "xaxis": "x",
         "y": [
          700,
          692,
          153,
          25.700000762939453,
          6.400000095367432
         ],
         "yaxis": "y"
        },
        {
         "hovertemplate": "time=1997<br>Wavelength(nm)=%{x}<br>Flux(Jy)=%{y}<extra></extra>",
         "legendgroup": "1997",
         "marker": {
          "color": "#FF97FF",
          "symbol": "circle"
         },
         "mode": "markers",
         "name": "1997",
         "orientation": "v",
         "showlegend": true,
         "type": "scatter",
         "x": [
          554088.2477882644,
          532264.073949222,
          420592.1938088829,
          420592.1938088829,
          554088.2477882644,
          402279.5843110962,
          532264.073949222
         ],
         "xaxis": "x",
         "y": [
          1630,
          1290,
          264,
          264,
          1460,
          1490,
          1290
         ],
         "yaxis": "y"
        },
        {
         "hovertemplate": "time=2000<br>Wavelength(nm)=%{x}<br>Flux(Jy)=%{y}<extra></extra>",
         "legendgroup": "2000",
         "marker": {
          "color": "#FECB52",
          "symbol": "circle"
         },
         "mode": "markers",
         "name": "2000",
         "orientation": "v",
         "showlegend": true,
         "type": "scatter",
         "x": [
          444510.2978218995
         ],
         "xaxis": "x",
         "y": [
          438
         ],
         "yaxis": "y"
        },
        {
         "hovertemplate": "time=2002<br>Wavelength(nm)=%{x}<br>Flux(Jy)=%{y}<extra></extra>",
         "legendgroup": "2002",
         "marker": {
          "color": "#636efa",
          "symbol": "circle"
         },
         "mode": "markers",
         "name": "2002",
         "orientation": "v",
         "showlegend": true,
         "type": "scatter",
         "x": [
          532264.073949222,
          420592.1938088829
         ],
         "xaxis": "x",
         "y": [
          1290,
          263
         ],
         "yaxis": "y"
        },
        {
         "hovertemplate": "time=2003<br>Wavelength(nm)=%{x}<br>Flux(Jy)=%{y}<extra></extra>",
         "legendgroup": "2003",
         "marker": {
          "color": "#EF553B",
          "symbol": "circle"
         },
         "mode": "markers",
         "name": "2003",
         "orientation": "v",
         "showlegend": true,
         "type": "scatter",
         "x": [
          1250886.0442813658,
          1631143.975641583,
          2191540.6530791144
         ],
         "xaxis": "x",
         "y": [
          11100,
          13400,
          10800
         ],
         "yaxis": "y"
        },
        {
         "hovertemplate": "time=2004<br>Wavelength(nm)=%{x}<br>Flux(Jy)=%{y}<extra></extra>",
         "legendgroup": "2004",
         "marker": {
          "color": "#00cc96",
          "symbol": "circle"
         },
         "mode": "markers",
         "name": "2004",
         "orientation": "v",
         "showlegend": true,
         "type": "scatter",
         "x": [
          102019995.91920015,
          23896765.971005253,
          11598237.067965668,
          2165283.2912306027,
          1650618.9821182943,
          61892678.09618122,
          1239874.3593982477
         ],
         "xaxis": "x",
         "y": [
          6.400000095367432,
          153,
          700,
          11100,
          13500,
          25.700000762939453,
          10900
         ],
         "yaxis": "y"
        },
        {
         "hovertemplate": "time=2005<br>Wavelength(nm)=%{x}<br>Flux(Jy)=%{y}<extra></extra>",
         "legendgroup": "2005",
         "marker": {
          "color": "#ab63fa",
          "symbol": "circle"
         },
         "mode": "markers",
         "name": "2005",
         "orientation": "v",
         "showlegend": true,
         "type": "scatter",
         "x": [
          402279.5843110962,
          1239874.3593982477,
          1650618.9821182943
         ],
         "xaxis": "x",
         "y": [
          1490,
          10900,
          13500
         ],
         "yaxis": "y"
        },
        {
         "hovertemplate": "time=2006<br>Wavelength(nm)=%{x}<br>Flux(Jy)=%{y}<extra></extra>",
         "legendgroup": "2006",
         "marker": {
          "color": "#FFA15A",
          "symbol": "circle"
         },
         "mode": "markers",
         "name": "2006",
         "orientation": "v",
         "showlegend": true,
         "type": "scatter",
         "x": [
          1239874.3593982477,
          1650618.9821182943,
          554088.2477882644,
          532264.073949222,
          420592.1938088829,
          402279.5843110962,
          444510.2978218995,
          444510.2978218995
         ],
         "xaxis": "x",
         "y": [
          10900,
          13500,
          1630,
          1290,
          264,
          1490,
          438,
          438
         ],
         "yaxis": "y"
        },
        {
         "hovertemplate": "time=2007<br>Wavelength(nm)=%{x}<br>Flux(Jy)=%{y}<extra></extra>",
         "legendgroup": "2007",
         "marker": {
          "color": "#19d3f3",
          "symbol": "circle"
         },
         "mode": "markers",
         "name": "2007",
         "orientation": "v",
         "showlegend": true,
         "type": "scatter",
         "x": [
          12008165.552575752,
          402279.5843110962,
          25016677.785190124,
          24017292.450564407
         ],
         "xaxis": "x",
         "y": [
          447,
          1490,
          106,
          114
         ],
         "yaxis": "y"
        },
        {
         "hovertemplate": "time=2008<br>Wavelength(nm)=%{x}<br>Flux(Jy)=%{y}<extra></extra>",
         "legendgroup": "2008",
         "marker": {
          "color": "#FF6692",
          "symbol": "circle"
         },
         "mode": "markers",
         "name": "2008",
         "orientation": "v",
         "showlegend": true,
         "type": "scatter",
         "x": [
          420592.1938088829,
          532264.073949222
         ],
         "xaxis": "x",
         "y": [
          263,
          1290
         ],
         "yaxis": "y"
        },
        {
         "hovertemplate": "time=2009<br>Wavelength(nm)=%{x}<br>Flux(Jy)=%{y}<extra></extra>",
         "legendgroup": "2009",
         "marker": {
          "color": "#B6E880",
          "symbol": "circle"
         },
         "mode": "markers",
         "name": "2009",
         "orientation": "v",
         "showlegend": true,
         "type": "scatter",
         "x": [
          2165283.2912306027,
          1650618.9821182943,
          1239874.3593982477
         ],
         "xaxis": "x",
         "y": [
          11100,
          13500,
          10900
         ],
         "yaxis": "y"
        },
        {
         "hovertemplate": "time=2010<br>Wavelength(nm)=%{x}<br>Flux(Jy)=%{y}<extra></extra>",
         "legendgroup": "2010",
         "marker": {
          "color": "#FF97FF",
          "symbol": "circle"
         },
         "mode": "markers",
         "name": "2010",
         "orientation": "v",
         "showlegend": true,
         "type": "scatter",
         "x": [
          2165283.2912306027,
          3524518.903169717,
          4893006.2630480165,
          2222880.8535862477,
          1650618.9821182943,
          1264115.9615708746,
          2165283.2912306027,
          1239874.3593982477,
          18402649.98159735,
          1239874.3593982477,
          1650618.9821182943
         ],
         "xaxis": "x",
         "y": [
          11100,
          4360,
          1930,
          8690,
          13500,
          9960,
          11100,
          10900,
          207,
          10900,
          13500
         ],
         "yaxis": "y"
        },
        {
         "hovertemplate": "time=2012<br>Wavelength(nm)=%{x}<br>Flux(Jy)=%{y}<extra></extra>",
         "legendgroup": "2012",
         "marker": {
          "color": "#FECB52",
          "symbol": "circle"
         },
         "mode": "markers",
         "name": "2012",
         "orientation": "v",
         "showlegend": true,
         "type": "scatter",
         "x": [
          402279.5843110962,
          1239874.3593982477,
          2191540.6530791144,
          554088.2477882644,
          444510.2978218995,
          1650618.9821182943,
          2165283.2912306027,
          2191540.6530791144,
          2191540.6530791144,
          444510.2978218995,
          1631143.975641583,
          402279.5843110962,
          1250886.0442813658,
          554088.2477882644,
          444510.2978218995,
          402279.5843110962,
          554088.2477882644
         ],
         "xaxis": "x",
         "y": [
          1490,
          10900,
          10700,
          1660,
          471,
          13500,
          11100,
          10800,
          10700,
          438,
          13400,
          1490,
          11100,
          1630,
          464,
          1510,
          1460
         ],
         "yaxis": "y"
        },
        {
         "hovertemplate": "time=2014<br>Wavelength(nm)=%{x}<br>Flux(Jy)=%{y}<extra></extra>",
         "legendgroup": "2014",
         "marker": {
          "color": "#636efa",
          "symbol": "circle"
         },
         "mode": "markers",
         "name": "2014",
         "orientation": "v",
         "showlegend": true,
         "type": "scatter",
         "x": [
          2165283.2912306027,
          1650618.9821182943,
          1239874.3593982477
         ],
         "xaxis": "x",
         "y": [
          11100,
          13500,
          10900
         ],
         "yaxis": "y"
        },
        {
         "hovertemplate": "time=2015<br>Wavelength(nm)=%{x}<br>Flux(Jy)=%{y}<extra></extra>",
         "legendgroup": "2015",
         "marker": {
          "color": "#EF553B",
          "symbol": "circle"
         },
         "mode": "markers",
         "name": "2015",
         "orientation": "v",
         "showlegend": true,
         "type": "scatter",
         "x": [
          554088.2477882644,
          353344.4047913501,
          444510.2978218995,
          694283.7306179125,
          2191540.6530791144,
          1250886.0442813658,
          878605.9452335626,
          3352329.869259135,
          3352329.869259135,
          4603203.829865586,
          4603203.829865586,
          11598237.067965668,
          554088.2477882644,
          11598237.067965668,
          18402649.98159735,
          23896765.971005253,
          61892678.09618122,
          61892678.09618122,
          23896765.971005253,
          102019995.91920015,
          1631143.975641583,
          102019995.91920015
         ],
         "xaxis": "x",
         "y": [
          1770,
          37.79999923706055,
          512,
          4290,
          9100,
          9180,
          7910,
          49,
          48.79999923706055,
          57,
          57.400001525878906,
          700,
          1600,
          639,
          207,
          153,
          25.700000762939453,
          24.700000762939453,
          151,
          6.400000095367432,
          11600,
          5.889999866485596
         ],
         "yaxis": "y"
        },
        {
         "hovertemplate": "time=2016<br>Wavelength(nm)=%{x}<br>Flux(Jy)=%{y}<extra></extra>",
         "legendgroup": "2016",
         "marker": {
          "color": "#00cc96",
          "symbol": "circle"
         },
         "mode": "markers",
         "name": "2016",
         "orientation": "v",
         "showlegend": true,
         "type": "scatter",
         "x": [
          1239874.3593982477,
          554088.2477882644,
          444510.2978218995,
          2165283.2912306027,
          1650618.9821182943,
          1239874.3593982477,
          554088.2477882644,
          444510.2978218995,
          444510.2978218995,
          1239874.3593982477,
          554088.2477882644,
          444510.2978218995,
          2165283.2912306027,
          1650618.9821182943,
          1239874.3593982477,
          554088.2477882644,
          444510.2978218995,
          2165283.2912306027,
          1650618.9821182943,
          444510.2978218995,
          2165283.2912306027,
          2165283.2912306027,
          1650618.9821182943,
          1239874.3593982477,
          554088.2477882644,
          444510.2978218995,
          2165283.2912306027,
          1650618.9821182943,
          1239874.3593982477,
          554088.2477882644,
          554088.2477882644,
          444510.2978218995,
          1650618.9821182943,
          1239874.3593982477,
          1650618.9821182943,
          2165283.2912306027,
          2165283.2912306027,
          444510.2978218995,
          554088.2477882644,
          1239874.3593982477,
          1650618.9821182943,
          2165283.2912306027,
          1650618.9821182943,
          444510.2978218995,
          554088.2477882644,
          1239874.3593982477,
          554088.2477882644,
          444510.2978218995,
          2165283.2912306027,
          1650618.9821182943,
          1239874.3593982477,
          554088.2477882644,
          444510.2978218995,
          1650618.9821182943,
          2165283.2912306027,
          1239874.3593982477,
          554088.2477882644,
          444510.2978218995,
          2165283.2912306027,
          1650618.9821182943,
          1239874.3593982477,
          554088.2477882644,
          444510.2978218995,
          1650618.9821182943,
          2165283.2912306027,
          444510.2978218995,
          554088.2477882644,
          444510.2978218995,
          2165283.2912306027,
          1650618.9821182943,
          1239874.3593982477,
          554088.2477882644,
          2165283.2912306027,
          1650618.9821182943,
          1239874.3593982477,
          554088.2477882644,
          444510.2978218995,
          2165283.2912306027,
          1650618.9821182943,
          1239874.3593982477,
          554088.2477882644,
          444510.2978218995,
          2165283.2912306027,
          1650618.9821182943,
          1239874.3593982477,
          554088.2477882644,
          1239874.3593982477,
          1239874.3593982477,
          1650618.9821182943,
          2165283.2912306027,
          2165283.2912306027,
          444510.2978218995,
          554088.2477882644,
          1650618.9821182943,
          2165283.2912306027,
          444510.2978218995,
          554088.2477882644,
          1239874.3593982477,
          1650618.9821182943,
          2165283.2912306027,
          444510.2978218995,
          554088.2477882644,
          1239874.3593982477,
          1650618.9821182943,
          1650618.9821182943,
          2165283.2912306027,
          554088.2477882644,
          1239874.3593982477,
          1650618.9821182943,
          2165283.2912306027,
          444510.2978218995,
          554088.2477882644,
          1239874.3593982477,
          1650618.9821182943,
          2165283.2912306027,
          444510.2978218995,
          554088.2477882644,
          1239874.3593982477,
          1650618.9821182943,
          2165283.2912306027,
          444510.2978218995,
          1239874.3593982477,
          1239874.3593982477,
          444510.2978218995,
          444510.2978218995,
          554088.2477882644,
          1239874.3593982477,
          1650618.9821182943,
          2165283.2912306027,
          444510.2978218995,
          554088.2477882644,
          1239874.3593982477,
          1650618.9821182943,
          2165283.2912306027,
          554088.2477882644,
          554088.2477882644,
          1239874.3593982477,
          1650618.9821182943,
          2165283.2912306027,
          444510.2978218995,
          554088.2477882644,
          2165283.2912306027,
          1650618.9821182943,
          444510.2978218995,
          554088.2477882644,
          444510.2978218995,
          2165283.2912306027,
          1239874.3593982477,
          1239874.3593982477,
          1239874.3593982477,
          1650618.9821182943,
          2165283.2912306027,
          1650618.9821182943,
          444510.2978218995,
          554088.2477882644
         ],
         "xaxis": "x",
         "y": [
          10900,
          1650,
          467,
          11100,
          13500,
          10900,
          1650,
          467,
          467,
          10900,
          1650,
          467,
          11100,
          13500,
          10900,
          1650,
          467,
          11100,
          13500,
          467,
          11100,
          11100,
          13500,
          10900,
          1650,
          467,
          11100,
          13500,
          10900,
          1650,
          1650,
          467,
          13500,
          10900,
          13500,
          11100,
          11100,
          467,
          1650,
          10900,
          13500,
          11100,
          13500,
          467,
          1650,
          10900,
          1650,
          467,
          11100,
          13500,
          10900,
          1650,
          467,
          13500,
          11100,
          10900,
          1650,
          467,
          11100,
          13500,
          10900,
          1650,
          467,
          13500,
          11100,
          467,
          1650,
          467,
          11100,
          13500,
          10900,
          1650,
          11100,
          13500,
          10900,
          1650,
          467,
          11100,
          13500,
          10900,
          1650,
          467,
          11100,
          13500,
          10900,
          1650,
          10900,
          10900,
          13500,
          11100,
          11100,
          467,
          1650,
          13500,
          11100,
          467,
          1650,
          10900,
          13500,
          11100,
          467,
          1650,
          10900,
          13500,
          13500,
          11100,
          1650,
          10900,
          13500,
          11100,
          467,
          1650,
          10900,
          13500,
          11100,
          467,
          1650,
          10900,
          13500,
          11100,
          467,
          10900,
          10900,
          467,
          467,
          1650,
          10900,
          13500,
          11100,
          467,
          1650,
          10900,
          13500,
          11100,
          1650,
          1650,
          10900,
          13500,
          11100,
          467,
          1650,
          11100,
          13500,
          467,
          1650,
          467,
          11100,
          10900,
          10900,
          10900,
          13500,
          11100,
          13500,
          467,
          1650
         ],
         "yaxis": "y"
        },
        {
         "hovertemplate": "time=2017<br>Wavelength(nm)=%{x}<br>Flux(Jy)=%{y}<extra></extra>",
         "legendgroup": "2017",
         "marker": {
          "color": "#ab63fa",
          "symbol": "circle"
         },
         "mode": "markers",
         "name": "2017",
         "orientation": "v",
         "showlegend": true,
         "type": "scatter",
         "x": [
          3572491.813039595,
          402279.5843110962,
          5033472.592741732,
          3402363.5085172495,
          2191540.6530791144,
          1631143.975641583,
          1250886.0442813658,
          532264.073949222,
          420592.1938088829,
          554088.2477882644,
          11598237.067965668,
          444510.2978218995
         ],
         "xaxis": "x",
         "y": [
          4340,
          1490,
          1810,
          4560,
          10800,
          13400,
          11100,
          1690,
          429,
          1250,
          475,
          285
         ],
         "yaxis": "y"
        },
        {
         "hovertemplate": "time=2018<br>Wavelength(nm)=%{x}<br>Flux(Jy)=%{y}<extra></extra>",
         "legendgroup": "2018",
         "marker": {
          "color": "#FFA15A",
          "symbol": "circle"
         },
         "mode": "markers",
         "name": "2018",
         "orientation": "v",
         "showlegend": true,
         "type": "scatter",
         "x": [
          4603203.829865586,
          1239874.3593982477,
          1650618.9821182943,
          1650618.9821182943,
          2165283.2912306027,
          1239874.3593982477,
          1650618.9821182943,
          2165283.2912306027,
          1239874.3593982477,
          3352329.869259135,
          1239874.3593982477,
          11567826.01989666,
          22105961.24088129,
          1650618.9821182943,
          1239874.3593982477,
          3352329.869259135,
          4603203.829865586,
          11567826.01989666,
          22105961.24088129,
          554088.2477882644
         ],
         "xaxis": "x",
         "y": [
          53.099998474121094,
          10900,
          13500,
          13500,
          11100,
          10900,
          13500,
          11100,
          10900,
          1.7599999904632568,
          10900,
          376,
          123,
          13500,
          10900,
          1.7599999904632568,
          53.099998474121094,
          376,
          123,
          521
         ],
         "yaxis": "y"
        },
        {
         "hovertemplate": "time=2019<br>Wavelength(nm)=%{x}<br>Flux(Jy)=%{y}<extra></extra>",
         "legendgroup": "2019",
         "marker": {
          "color": "#19d3f3",
          "symbol": "circle"
         },
         "mode": "markers",
         "name": "2019",
         "orientation": "v",
         "showlegend": true,
         "type": "scatter",
         "x": [
          1239874.3593982477,
          1250886.0442813658,
          2165283.2912306027,
          554088.2477882644,
          1631143.975641583,
          2165283.2912306027,
          3352329.869259135,
          4603203.829865586,
          11567826.01989666,
          22105961.24088129,
          673461.1412921475,
          554088.2477882644,
          1650618.9821182943,
          444510.2978218995
         ],
         "xaxis": "x",
         "y": [
          10900,
          11100,
          11100,
          1630,
          13400,
          11100,
          1.7599999904632568,
          53.099998474121094,
          376,
          123,
          0.050700001418590546,
          1630,
          13500,
          3020
         ],
         "yaxis": "y"
        },
        {
         "hovertemplate": "time=2020<br>Wavelength(nm)=%{x}<br>Flux(Jy)=%{y}<extra></extra>",
         "legendgroup": "2020",
         "marker": {
          "color": "#FF6692",
          "symbol": "circle"
         },
         "mode": "markers",
         "name": "2020",
         "orientation": "v",
         "showlegend": true,
         "type": "scatter",
         "x": [
          878605.9452335626,
          878605.9452335626,
          532264.073949222,
          420592.1938088829,
          2165283.2912306027,
          1650618.9821182943,
          1239874.3593982477,
          878605.9452335626,
          554088.2477882644,
          554088.2477882644,
          554088.2477882644,
          1239874.3593982477,
          1650618.9821182943,
          2165283.2912306027,
          2191540.6530791144,
          1239874.3593982477,
          1650618.9821182943,
          2165283.2912306027,
          4603203.829865586,
          673461.1412921475,
          4603203.829865586,
          554088.2477882644,
          2191540.6530791144,
          554088.2477882644,
          2191540.6530791144,
          2191540.6530791144
         ],
         "xaxis": "x",
         "y": [
          1020,
          1020,
          1290,
          263,
          11100,
          13500,
          10900,
          1020,
          1530,
          1630,
          1530,
          10900,
          13500,
          11100,
          10800,
          10900,
          13500,
          11100,
          53.099998474121094,
          1350,
          53.099998474121094,
          1530,
          10800,
          1530,
          10800,
          10800
         ],
         "yaxis": "y"
        },
        {
         "hovertemplate": "time=2021<br>Wavelength(nm)=%{x}<br>Flux(Jy)=%{y}<extra></extra>",
         "legendgroup": "2021",
         "marker": {
          "color": "#B6E880",
          "symbol": "circle"
         },
         "mode": "markers",
         "name": "2021",
         "orientation": "v",
         "showlegend": true,
         "type": "scatter",
         "x": [
          554088.2477882644,
          1239874.3593982477,
          1650618.9821182943,
          2165283.2912306027,
          444510.2978218995,
          444510.2978218995,
          554088.2477882644,
          554088.2477882644,
          444510.2978218995,
          1650618.9821182943,
          1239874.3593982477,
          1239874.3593982477,
          2165283.2912306027,
          554088.2477882644,
          22105961.24088129,
          11567826.01989666,
          4603203.829865586,
          3352329.869259135,
          1239874.3593982477,
          2165283.2912306027,
          1631143.975641583,
          1250886.0442813658
         ],
         "xaxis": "x",
         "y": [
          1630,
          10900,
          13500,
          9230,
          467,
          451,
          1650,
          1680,
          3020,
          13500,
          1480,
          10900,
          11100,
          1630,
          123,
          376,
          53.099998474121094,
          1.7599999904632568,
          1480,
          9230,
          13400,
          11100
         ],
         "yaxis": "y"
        },
        {
         "hovertemplate": "time=2022<br>Wavelength(nm)=%{x}<br>Flux(Jy)=%{y}<extra></extra>",
         "legendgroup": "2022",
         "marker": {
          "color": "#FF97FF",
          "symbol": "circle"
         },
         "mode": "markers",
         "name": "2022",
         "orientation": "v",
         "showlegend": true,
         "type": "scatter",
         "x": [
          2165283.2912306027,
          1239874.3593982477,
          1650618.9821182943,
          2165283.2912306027,
          402279.5843110962,
          1650618.9821182943,
          1239874.3593982477
         ],
         "xaxis": "x",
         "y": [
          6.75999999811365e-38,
          1.5800000038707951e-37,
          1.0500000018628456e-37,
          6.75999999811365e-38,
          1490,
          1.0500000018628456e-37,
          1.5800000038707951e-37
         ],
         "yaxis": "y"
        },
        {
         "hovertemplate": "time=2023<br>Wavelength(nm)=%{x}<br>Flux(Jy)=%{y}<extra></extra>",
         "legendgroup": "2023",
         "marker": {
          "color": "#FECB52",
          "symbol": "circle"
         },
         "mode": "markers",
         "name": "2023",
         "orientation": "v",
         "showlegend": true,
         "type": "scatter",
         "x": [
          673461.1412921475
         ],
         "xaxis": "x",
         "y": [
          2400
         ],
         "yaxis": "y"
        },
        {
         "hovertemplate": "time=2024<br>Wavelength(nm)=%{x}<br>Flux(Jy)=%{y}<extra></extra>",
         "legendgroup": "2024",
         "marker": {
          "color": "#636efa",
          "symbol": "circle"
         },
         "mode": "markers",
         "name": "2024",
         "orientation": "v",
         "showlegend": true,
         "type": "scatter",
         "x": [
          70047632.39002521,
          70047632.39002521,
          160111010.300475,
          160111010.300475,
          554088.2477882644,
          100070049.03432402
         ],
         "xaxis": "x",
         "y": [
          14.199999809265137,
          14.300000190734863,
          2.8399999141693115,
          2.819999933242798,
          1650,
          7.070000171661377
         ],
         "yaxis": "y"
        }
       ],
       "layout": {
        "legend": {
         "title": {
          "text": "time"
         },
         "tracegroupgap": 0
        },
        "template": {
         "data": {
          "bar": [
           {
            "error_x": {
             "color": "#2a3f5f"
            },
            "error_y": {
             "color": "#2a3f5f"
            },
            "marker": {
             "line": {
              "color": "#E5ECF6",
              "width": 0.5
             },
             "pattern": {
              "fillmode": "overlay",
              "size": 10,
              "solidity": 0.2
             }
            },
            "type": "bar"
           }
          ],
          "barpolar": [
           {
            "marker": {
             "line": {
              "color": "#E5ECF6",
              "width": 0.5
             },
             "pattern": {
              "fillmode": "overlay",
              "size": 10,
              "solidity": 0.2
             }
            },
            "type": "barpolar"
           }
          ],
          "carpet": [
           {
            "aaxis": {
             "endlinecolor": "#2a3f5f",
             "gridcolor": "white",
             "linecolor": "white",
             "minorgridcolor": "white",
             "startlinecolor": "#2a3f5f"
            },
            "baxis": {
             "endlinecolor": "#2a3f5f",
             "gridcolor": "white",
             "linecolor": "white",
             "minorgridcolor": "white",
             "startlinecolor": "#2a3f5f"
            },
            "type": "carpet"
           }
          ],
          "choropleth": [
           {
            "colorbar": {
             "outlinewidth": 0,
             "ticks": ""
            },
            "type": "choropleth"
           }
          ],
          "contour": [
           {
            "colorbar": {
             "outlinewidth": 0,
             "ticks": ""
            },
            "colorscale": [
             [
              0,
              "#0d0887"
             ],
             [
              0.1111111111111111,
              "#46039f"
             ],
             [
              0.2222222222222222,
              "#7201a8"
             ],
             [
              0.3333333333333333,
              "#9c179e"
             ],
             [
              0.4444444444444444,
              "#bd3786"
             ],
             [
              0.5555555555555556,
              "#d8576b"
             ],
             [
              0.6666666666666666,
              "#ed7953"
             ],
             [
              0.7777777777777778,
              "#fb9f3a"
             ],
             [
              0.8888888888888888,
              "#fdca26"
             ],
             [
              1,
              "#f0f921"
             ]
            ],
            "type": "contour"
           }
          ],
          "contourcarpet": [
           {
            "colorbar": {
             "outlinewidth": 0,
             "ticks": ""
            },
            "type": "contourcarpet"
           }
          ],
          "heatmap": [
           {
            "colorbar": {
             "outlinewidth": 0,
             "ticks": ""
            },
            "colorscale": [
             [
              0,
              "#0d0887"
             ],
             [
              0.1111111111111111,
              "#46039f"
             ],
             [
              0.2222222222222222,
              "#7201a8"
             ],
             [
              0.3333333333333333,
              "#9c179e"
             ],
             [
              0.4444444444444444,
              "#bd3786"
             ],
             [
              0.5555555555555556,
              "#d8576b"
             ],
             [
              0.6666666666666666,
              "#ed7953"
             ],
             [
              0.7777777777777778,
              "#fb9f3a"
             ],
             [
              0.8888888888888888,
              "#fdca26"
             ],
             [
              1,
              "#f0f921"
             ]
            ],
            "type": "heatmap"
           }
          ],
          "heatmapgl": [
           {
            "colorbar": {
             "outlinewidth": 0,
             "ticks": ""
            },
            "colorscale": [
             [
              0,
              "#0d0887"
             ],
             [
              0.1111111111111111,
              "#46039f"
             ],
             [
              0.2222222222222222,
              "#7201a8"
             ],
             [
              0.3333333333333333,
              "#9c179e"
             ],
             [
              0.4444444444444444,
              "#bd3786"
             ],
             [
              0.5555555555555556,
              "#d8576b"
             ],
             [
              0.6666666666666666,
              "#ed7953"
             ],
             [
              0.7777777777777778,
              "#fb9f3a"
             ],
             [
              0.8888888888888888,
              "#fdca26"
             ],
             [
              1,
              "#f0f921"
             ]
            ],
            "type": "heatmapgl"
           }
          ],
          "histogram": [
           {
            "marker": {
             "pattern": {
              "fillmode": "overlay",
              "size": 10,
              "solidity": 0.2
             }
            },
            "type": "histogram"
           }
          ],
          "histogram2d": [
           {
            "colorbar": {
             "outlinewidth": 0,
             "ticks": ""
            },
            "colorscale": [
             [
              0,
              "#0d0887"
             ],
             [
              0.1111111111111111,
              "#46039f"
             ],
             [
              0.2222222222222222,
              "#7201a8"
             ],
             [
              0.3333333333333333,
              "#9c179e"
             ],
             [
              0.4444444444444444,
              "#bd3786"
             ],
             [
              0.5555555555555556,
              "#d8576b"
             ],
             [
              0.6666666666666666,
              "#ed7953"
             ],
             [
              0.7777777777777778,
              "#fb9f3a"
             ],
             [
              0.8888888888888888,
              "#fdca26"
             ],
             [
              1,
              "#f0f921"
             ]
            ],
            "type": "histogram2d"
           }
          ],
          "histogram2dcontour": [
           {
            "colorbar": {
             "outlinewidth": 0,
             "ticks": ""
            },
            "colorscale": [
             [
              0,
              "#0d0887"
             ],
             [
              0.1111111111111111,
              "#46039f"
             ],
             [
              0.2222222222222222,
              "#7201a8"
             ],
             [
              0.3333333333333333,
              "#9c179e"
             ],
             [
              0.4444444444444444,
              "#bd3786"
             ],
             [
              0.5555555555555556,
              "#d8576b"
             ],
             [
              0.6666666666666666,
              "#ed7953"
             ],
             [
              0.7777777777777778,
              "#fb9f3a"
             ],
             [
              0.8888888888888888,
              "#fdca26"
             ],
             [
              1,
              "#f0f921"
             ]
            ],
            "type": "histogram2dcontour"
           }
          ],
          "mesh3d": [
           {
            "colorbar": {
             "outlinewidth": 0,
             "ticks": ""
            },
            "type": "mesh3d"
           }
          ],
          "parcoords": [
           {
            "line": {
             "colorbar": {
              "outlinewidth": 0,
              "ticks": ""
             }
            },
            "type": "parcoords"
           }
          ],
          "pie": [
           {
            "automargin": true,
            "type": "pie"
           }
          ],
          "scatter": [
           {
            "fillpattern": {
             "fillmode": "overlay",
             "size": 10,
             "solidity": 0.2
            },
            "type": "scatter"
           }
          ],
          "scatter3d": [
           {
            "line": {
             "colorbar": {
              "outlinewidth": 0,
              "ticks": ""
             }
            },
            "marker": {
             "colorbar": {
              "outlinewidth": 0,
              "ticks": ""
             }
            },
            "type": "scatter3d"
           }
          ],
          "scattercarpet": [
           {
            "marker": {
             "colorbar": {
              "outlinewidth": 0,
              "ticks": ""
             }
            },
            "type": "scattercarpet"
           }
          ],
          "scattergeo": [
           {
            "marker": {
             "colorbar": {
              "outlinewidth": 0,
              "ticks": ""
             }
            },
            "type": "scattergeo"
           }
          ],
          "scattergl": [
           {
            "marker": {
             "colorbar": {
              "outlinewidth": 0,
              "ticks": ""
             }
            },
            "type": "scattergl"
           }
          ],
          "scattermapbox": [
           {
            "marker": {
             "colorbar": {
              "outlinewidth": 0,
              "ticks": ""
             }
            },
            "type": "scattermapbox"
           }
          ],
          "scatterpolar": [
           {
            "marker": {
             "colorbar": {
              "outlinewidth": 0,
              "ticks": ""
             }
            },
            "type": "scatterpolar"
           }
          ],
          "scatterpolargl": [
           {
            "marker": {
             "colorbar": {
              "outlinewidth": 0,
              "ticks": ""
             }
            },
            "type": "scatterpolargl"
           }
          ],
          "scatterternary": [
           {
            "marker": {
             "colorbar": {
              "outlinewidth": 0,
              "ticks": ""
             }
            },
            "type": "scatterternary"
           }
          ],
          "surface": [
           {
            "colorbar": {
             "outlinewidth": 0,
             "ticks": ""
            },
            "colorscale": [
             [
              0,
              "#0d0887"
             ],
             [
              0.1111111111111111,
              "#46039f"
             ],
             [
              0.2222222222222222,
              "#7201a8"
             ],
             [
              0.3333333333333333,
              "#9c179e"
             ],
             [
              0.4444444444444444,
              "#bd3786"
             ],
             [
              0.5555555555555556,
              "#d8576b"
             ],
             [
              0.6666666666666666,
              "#ed7953"
             ],
             [
              0.7777777777777778,
              "#fb9f3a"
             ],
             [
              0.8888888888888888,
              "#fdca26"
             ],
             [
              1,
              "#f0f921"
             ]
            ],
            "type": "surface"
           }
          ],
          "table": [
           {
            "cells": {
             "fill": {
              "color": "#EBF0F8"
             },
             "line": {
              "color": "white"
             }
            },
            "header": {
             "fill": {
              "color": "#C8D4E3"
             },
             "line": {
              "color": "white"
             }
            },
            "type": "table"
           }
          ]
         },
         "layout": {
          "annotationdefaults": {
           "arrowcolor": "#2a3f5f",
           "arrowhead": 0,
           "arrowwidth": 1
          },
          "autotypenumbers": "strict",
          "coloraxis": {
           "colorbar": {
            "outlinewidth": 0,
            "ticks": ""
           }
          },
          "colorscale": {
           "diverging": [
            [
             0,
             "#8e0152"
            ],
            [
             0.1,
             "#c51b7d"
            ],
            [
             0.2,
             "#de77ae"
            ],
            [
             0.3,
             "#f1b6da"
            ],
            [
             0.4,
             "#fde0ef"
            ],
            [
             0.5,
             "#f7f7f7"
            ],
            [
             0.6,
             "#e6f5d0"
            ],
            [
             0.7,
             "#b8e186"
            ],
            [
             0.8,
             "#7fbc41"
            ],
            [
             0.9,
             "#4d9221"
            ],
            [
             1,
             "#276419"
            ]
           ],
           "sequential": [
            [
             0,
             "#0d0887"
            ],
            [
             0.1111111111111111,
             "#46039f"
            ],
            [
             0.2222222222222222,
             "#7201a8"
            ],
            [
             0.3333333333333333,
             "#9c179e"
            ],
            [
             0.4444444444444444,
             "#bd3786"
            ],
            [
             0.5555555555555556,
             "#d8576b"
            ],
            [
             0.6666666666666666,
             "#ed7953"
            ],
            [
             0.7777777777777778,
             "#fb9f3a"
            ],
            [
             0.8888888888888888,
             "#fdca26"
            ],
            [
             1,
             "#f0f921"
            ]
           ],
           "sequentialminus": [
            [
             0,
             "#0d0887"
            ],
            [
             0.1111111111111111,
             "#46039f"
            ],
            [
             0.2222222222222222,
             "#7201a8"
            ],
            [
             0.3333333333333333,
             "#9c179e"
            ],
            [
             0.4444444444444444,
             "#bd3786"
            ],
            [
             0.5555555555555556,
             "#d8576b"
            ],
            [
             0.6666666666666666,
             "#ed7953"
            ],
            [
             0.7777777777777778,
             "#fb9f3a"
            ],
            [
             0.8888888888888888,
             "#fdca26"
            ],
            [
             1,
             "#f0f921"
            ]
           ]
          },
          "colorway": [
           "#636efa",
           "#EF553B",
           "#00cc96",
           "#ab63fa",
           "#FFA15A",
           "#19d3f3",
           "#FF6692",
           "#B6E880",
           "#FF97FF",
           "#FECB52"
          ],
          "font": {
           "color": "#2a3f5f"
          },
          "geo": {
           "bgcolor": "white",
           "lakecolor": "white",
           "landcolor": "#E5ECF6",
           "showlakes": true,
           "showland": true,
           "subunitcolor": "white"
          },
          "hoverlabel": {
           "align": "left"
          },
          "hovermode": "closest",
          "mapbox": {
           "style": "light"
          },
          "paper_bgcolor": "white",
          "plot_bgcolor": "#E5ECF6",
          "polar": {
           "angularaxis": {
            "gridcolor": "white",
            "linecolor": "white",
            "ticks": ""
           },
           "bgcolor": "#E5ECF6",
           "radialaxis": {
            "gridcolor": "white",
            "linecolor": "white",
            "ticks": ""
           }
          },
          "scene": {
           "xaxis": {
            "backgroundcolor": "#E5ECF6",
            "gridcolor": "white",
            "gridwidth": 2,
            "linecolor": "white",
            "showbackground": true,
            "ticks": "",
            "zerolinecolor": "white"
           },
           "yaxis": {
            "backgroundcolor": "#E5ECF6",
            "gridcolor": "white",
            "gridwidth": 2,
            "linecolor": "white",
            "showbackground": true,
            "ticks": "",
            "zerolinecolor": "white"
           },
           "zaxis": {
            "backgroundcolor": "#E5ECF6",
            "gridcolor": "white",
            "gridwidth": 2,
            "linecolor": "white",
            "showbackground": true,
            "ticks": "",
            "zerolinecolor": "white"
           }
          },
          "shapedefaults": {
           "line": {
            "color": "#2a3f5f"
           }
          },
          "ternary": {
           "aaxis": {
            "gridcolor": "white",
            "linecolor": "white",
            "ticks": ""
           },
           "baxis": {
            "gridcolor": "white",
            "linecolor": "white",
            "ticks": ""
           },
           "bgcolor": "#E5ECF6",
           "caxis": {
            "gridcolor": "white",
            "linecolor": "white",
            "ticks": ""
           }
          },
          "title": {
           "x": 0.05
          },
          "xaxis": {
           "automargin": true,
           "gridcolor": "white",
           "linecolor": "white",
           "ticks": "",
           "title": {
            "standoff": 15
           },
           "zerolinecolor": "white",
           "zerolinewidth": 2
          },
          "yaxis": {
           "automargin": true,
           "gridcolor": "white",
           "linecolor": "white",
           "ticks": "",
           "title": {
            "standoff": 15
           },
           "zerolinecolor": "white",
           "zerolinewidth": 2
          }
         }
        },
        "title": {
         "text": "Emitting Spectra of Aldebaran(Alpha Tauri)"
        },
        "updatemenus": [
         {
          "buttons": [
           {
            "args": [
             "visible",
             "legendonly"
            ],
            "label": "Deselect All",
            "method": "restyle"
           },
           {
            "args": [
             "visible",
             true
            ],
            "label": "Select All",
            "method": "restyle"
           }
          ],
          "direction": "left",
          "pad": {
           "r": 10,
           "t": 10
          },
          "showactive": false,
          "type": "buttons",
          "x": 1,
          "xanchor": "right",
          "y": 1.1,
          "yanchor": "top"
         }
        ],
        "xaxis": {
         "anchor": "y",
         "domain": [
          0,
          1
         ],
         "title": {
          "text": "Wavelength(nm)"
         },
         "type": "log"
        },
        "yaxis": {
         "anchor": "x",
         "domain": [
          0,
          1
         ],
         "title": {
          "text": "Flux(Jy)"
         }
        }
       }
      }
     },
     "metadata": {},
     "output_type": "display_data"
    }
   ],
   "source": [
    "fig=px.scatter(df.sort_values('time'),x=\"wavelength\",y=\"sed_flux\",title=\"Emitting Spectra of Aldebaran(Alpha Tauri)\",log_x=True,color=\"time\",labels={\"wavelength\": \"Wavelength(nm)\", \"sed_flux\": \"Flux(Jy)\"}) # Defines plotly scatter plot with x axis in logarithmic\n",
    "fig.update_layout(dict(updatemenus=[\n",
    "                        dict(\n",
    "                            type = \"buttons\",\n",
    "                            direction = \"left\",\n",
    "                            buttons=list([\n",
    "                                dict(\n",
    "                                    args=[\"visible\", \"legendonly\"],\n",
    "                                    label=\"Deselect All\",\n",
    "                                    method=\"restyle\"\n",
    "                                ),\n",
    "                                dict(\n",
    "                                    args=[\"visible\", True],\n",
    "                                    label=\"Select All\",\n",
    "                                    method=\"restyle\"\n",
    "                                )\n",
    "                            ]),\n",
    "                            pad={\"r\": 10, \"t\": 10},\n",
    "                            showactive=False,\n",
    "                            x=1,\n",
    "                            xanchor=\"right\",\n",
    "                            y=1.1,\n",
    "                            yanchor=\"top\"\n",
    "                        ),\n",
    "                    ]\n",
    "              ))\n",
    "fig.show()"
   ]
  },
  {
   "cell_type": "code",
   "execution_count": null,
   "metadata": {},
   "outputs": [],
   "source": []
  }
 ],
 "metadata": {
  "kernelspec": {
   "display_name": "base",
   "language": "python",
   "name": "python3"
  },
  "language_info": {
   "codemirror_mode": {
    "name": "ipython",
    "version": 3
   },
   "file_extension": ".py",
   "mimetype": "text/x-python",
   "name": "python",
   "nbconvert_exporter": "python",
   "pygments_lexer": "ipython3",
   "version": "3.11.5"
  }
 },
 "nbformat": 4,
 "nbformat_minor": 2
}
